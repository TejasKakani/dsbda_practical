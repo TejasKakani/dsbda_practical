{
 "cells": [
  {
   "cell_type": "code",
   "execution_count": 51,
   "id": "a3189016-aff3-4885-b6cd-5183a08338cb",
   "metadata": {},
   "outputs": [
    {
     "data": {
      "text/html": [
       "<div>\n",
       "<style scoped>\n",
       "    .dataframe tbody tr th:only-of-type {\n",
       "        vertical-align: middle;\n",
       "    }\n",
       "\n",
       "    .dataframe tbody tr th {\n",
       "        vertical-align: top;\n",
       "    }\n",
       "\n",
       "    .dataframe thead th {\n",
       "        text-align: right;\n",
       "    }\n",
       "</style>\n",
       "<table border=\"1\" class=\"dataframe\">\n",
       "  <thead>\n",
       "    <tr style=\"text-align: right;\">\n",
       "      <th></th>\n",
       "      <th>min</th>\n",
       "      <th>max</th>\n",
       "    </tr>\n",
       "    <tr>\n",
       "      <th>Age Group</th>\n",
       "      <th></th>\n",
       "      <th></th>\n",
       "    </tr>\n",
       "  </thead>\n",
       "  <tbody>\n",
       "    <tr>\n",
       "      <th>18–24</th>\n",
       "      <td>15</td>\n",
       "      <td>81</td>\n",
       "    </tr>\n",
       "    <tr>\n",
       "      <th>25–34</th>\n",
       "      <td>17</td>\n",
       "      <td>137</td>\n",
       "    </tr>\n",
       "    <tr>\n",
       "      <th>35–44</th>\n",
       "      <td>18</td>\n",
       "      <td>120</td>\n",
       "    </tr>\n",
       "    <tr>\n",
       "      <th>45–54</th>\n",
       "      <td>23</td>\n",
       "      <td>126</td>\n",
       "    </tr>\n",
       "    <tr>\n",
       "      <th>55–64</th>\n",
       "      <td>19</td>\n",
       "      <td>93</td>\n",
       "    </tr>\n",
       "    <tr>\n",
       "      <th>65–74</th>\n",
       "      <td>19</td>\n",
       "      <td>63</td>\n",
       "    </tr>\n",
       "  </tbody>\n",
       "</table>\n",
       "</div>"
      ],
      "text/plain": [
       "           min  max\n",
       "Age Group          \n",
       "18–24       15   81\n",
       "25–34       17  137\n",
       "35–44       18  120\n",
       "45–54       23  126\n",
       "55–64       19   93\n",
       "65–74       19   63"
      ]
     },
     "execution_count": 51,
     "metadata": {},
     "output_type": "execute_result"
    }
   ],
   "source": [
    "import pandas as pd\n",
    "#1\n",
    "df = pd.read_csv('Downloads/Mall_Customers.csv')\n",
    "df\n",
    "#2\n",
    "df.describe()\n",
    "#3\n",
    "modified_df = df.iloc[:, 2:]\n",
    "mad = (modified_df - modified_df.mean()).abs().mean()\n",
    "mad\n",
    "modified_df.var()\n",
    "modified_df.quantile()\n",
    "modified_df.skew()\n",
    "r = modified_df.max() - modified_df.min()\n",
    "r\n",
    "#4\n",
    "bins = [0, 24, 34, 44, 54, 64, 74, 150]\n",
    "labels = ['18–24', '25–34', '35–44', '45–54', '55–64', '65–74', '75+']\n",
    "modified_df['Age Group'] = pd.cut(modified_df['Age'], bins=bins, labels=labels, right=True)\n",
    "modified_df.groupby(by='Age Group', observed=True)['Annual Income (k$)'].agg(['min', 'max'])"
   ]
  },
  {
   "cell_type": "code",
   "execution_count": null,
   "id": "4c598a3c-e613-4bf2-85d7-67e41329cc32",
   "metadata": {},
   "outputs": [],
   "source": []
  }
 ],
 "metadata": {
  "kernelspec": {
   "display_name": "Python 3 (ipykernel)",
   "language": "python",
   "name": "python3"
  },
  "language_info": {
   "codemirror_mode": {
    "name": "ipython",
    "version": 3
   },
   "file_extension": ".py",
   "mimetype": "text/x-python",
   "name": "python",
   "nbconvert_exporter": "python",
   "pygments_lexer": "ipython3",
   "version": "3.13.0"
  }
 },
 "nbformat": 4,
 "nbformat_minor": 5
}
