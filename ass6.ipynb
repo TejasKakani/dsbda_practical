{
 "cells": [
  {
   "cell_type": "code",
   "execution_count": 8,
   "id": "90a90f8e-f9f5-40ff-a1ce-1ecf781b0df0",
   "metadata": {},
   "outputs": [
    {
     "name": "stdout",
     "output_type": "stream",
     "text": [
      "       0    1    2    3  4_Iris-setosa  4_Iris-versicolor  4_Iris-virginica\n",
      "0    5.1  3.5  1.4  0.2           True              False             False\n",
      "1    4.9  3.0  1.4  0.2           True              False             False\n",
      "2    4.7  3.2  1.3  0.2           True              False             False\n",
      "3    4.6  3.1  1.5  0.2           True              False             False\n",
      "4    5.0  3.6  1.4  0.2           True              False             False\n",
      "..   ...  ...  ...  ...            ...                ...               ...\n",
      "145  6.7  3.0  5.2  2.3          False              False              True\n",
      "146  6.3  2.5  5.0  1.9          False              False              True\n",
      "147  6.5  3.0  5.2  2.0          False              False              True\n",
      "148  6.2  3.4  5.4  2.3          False              False              True\n",
      "149  5.9  3.0  5.1  1.8          False              False              True\n",
      "\n",
      "[150 rows x 7 columns]\n"
     ]
    }
   ],
   "source": [
    "import pandas as pd\n",
    "\n",
    "df = pd.read_csv('https://archive.ics.uci.edu/ml/machine-learning-databases/iris/iris.data', header=None)\n",
    "\n",
    "df_encoded = pd.get_dummies(df, columns=[4])\n",
    "print(df_encoded)"
   ]
  },
  {
   "cell_type": "code",
   "execution_count": null,
   "id": "f846b841-6394-483a-9e0a-168af6a18fd2",
   "metadata": {},
   "outputs": [],
   "source": []
  }
 ],
 "metadata": {
  "kernelspec": {
   "display_name": "Python 3 (ipykernel)",
   "language": "python",
   "name": "python3"
  },
  "language_info": {
   "codemirror_mode": {
    "name": "ipython",
    "version": 3
   },
   "file_extension": ".py",
   "mimetype": "text/x-python",
   "name": "python",
   "nbconvert_exporter": "python",
   "pygments_lexer": "ipython3",
   "version": "3.13.0"
  }
 },
 "nbformat": 4,
 "nbformat_minor": 5
}
